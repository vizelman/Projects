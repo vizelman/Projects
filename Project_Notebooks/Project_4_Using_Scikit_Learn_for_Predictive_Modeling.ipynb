{
 "cells": [
  {
   "cell_type": "markdown",
   "metadata": {},
   "source": [
    "**Michael Vizelman**\n",
    "\n",
    "## Predictive Analysis using scikit-learn ## \n",
    "___\n",
    "\n",
    "**Project Objectives**\n",
    "- Use tools learned in the course to prepare data for predictive analysis.\n",
    "- Construct a predictive model using tools available within the scikit-learn library.\n",
    "- Answer the question: “Which other attribute (i.e., aside from the poisonous/edible indicator) or attributes are the best predictors of whether a particular mushroom is poisonous or edible?”"
   ]
  },
  {
   "cell_type": "markdown",
   "metadata": {},
   "source": [
    "### Phase I: Data Acquisition, Data Preparation & Exploratory Data Analysis \n",
    "\n",
    "- Import the dataset and choose which variables to keep for the analysis.\n",
    "- Include the column that indicates edible or poisonous, the column that includes odor, and at least two other columns of your choosing."
   ]
  },
  {
   "cell_type": "code",
   "execution_count": 1,
   "metadata": {},
   "outputs": [],
   "source": [
    "#load pandas and numpy libraries\n",
    "import pandas as pd \n",
    "import numpy as np"
   ]
  },
  {
   "cell_type": "code",
   "execution_count": 2,
   "metadata": {},
   "outputs": [],
   "source": [
    "#load the entire dataset from GitHub\n",
    "mr_df = pd.read_csv(\"https://raw.githubusercontent.com/vizelman/Projects/main/Data_Files/Mushroom_dataset.data?token=ANAIKVPY2LU6J74QIO3G273AB4L4A\", header = None)"
   ]
  },
  {
   "cell_type": "code",
   "execution_count": 3,
   "metadata": {},
   "outputs": [
    {
     "name": "stdout",
     "output_type": "stream",
     "text": [
      "(8124, 23)\n"
     ]
    }
   ],
   "source": [
    "#check the dataset uploaded as expected\n",
    "mr_df.head() \n",
    "\n",
    "#we could see the first variable isn't what we expected from the data dictionary,\n",
    "#it is the variable indicating whether a mushroom is: \n",
    "#e-edible or p-poisonous\n",
    "\n",
    "#show the shape of the data frame\n",
    "print(mr_df.shape)"
   ]
  },
  {
   "cell_type": "markdown",
   "metadata": {},
   "source": [
    "From studying the data dictionary we know that variable 11 - 'stalk-root' has missing values as '?'.   \n",
    "We want to check if they are present and change them to NaN using numpy.nan."
   ]
  },
  {
   "cell_type": "code",
   "execution_count": 4,
   "metadata": {},
   "outputs": [
    {
     "data": {
      "text/plain": [
       "0       e\n",
       "1       c\n",
       "29      b\n",
       "33      r\n",
       "3984    ?\n",
       "Name: 11, dtype: object"
      ]
     },
     "execution_count": 4,
     "metadata": {},
     "output_type": "execute_result"
    }
   ],
   "source": [
    "#check the type of values in 'stalk-root' column\n",
    "mr_df[11].drop_duplicates()"
   ]
  },
  {
   "cell_type": "code",
   "execution_count": 5,
   "metadata": {},
   "outputs": [],
   "source": [
    "#replace the '?' with NaN before doing any computations\n",
    "mr_df[11]=mr_df[11].replace('?',np.nan)"
   ]
  },
  {
   "cell_type": "code",
   "execution_count": 6,
   "metadata": {},
   "outputs": [
    {
     "data": {
      "text/plain": [
       "0         e\n",
       "1         c\n",
       "29        b\n",
       "33        r\n",
       "3984    NaN\n",
       "Name: 11, dtype: object"
      ]
     },
     "execution_count": 6,
     "metadata": {},
     "output_type": "execute_result"
    }
   ],
   "source": [
    "#make sure the data changed as we expected and we have no '?'\n",
    "mr_df[11].drop_duplicates()"
   ]
  },
  {
   "cell_type": "markdown",
   "metadata": {},
   "source": [
    "Now the '?' are missing values also for Python."
   ]
  },
  {
   "cell_type": "markdown",
   "metadata": {},
   "source": [
    "In order to choose which columns we want to keep from the dataset, we can use the Chi-Square test.\n",
    "\n",
    "*The chi-squared test is used to determine whether there is a significant difference between the expected frequencies and the observed frequencies in one or more categories.A chi-squared test can be used to attempt rejection of the null hypothesis that the data are independent.Also considered a chi-squared test is a test in which this is asymptotically true, meaning that the sampling distribution (if the null hypothesis is true) can be made to approximate a chi-squared distribution as closely as desired by making the sample size large enough.* (Wikipedia)\n",
    "\n",
    "In our case, we have enough observations (8124) to make the assumption of a large enough sample size."
   ]
  },
  {
   "cell_type": "markdown",
   "metadata": {},
   "source": [
    "The first step is to create the cross tab for each variable compared with the variable which indicates if the mushroom is an edible/poisonous mushroom. The process of the Chi-Square test has to verify that the distribution of our variable is independent from another. If that was true the observation would be equally distributed between each category for both of the variables.\n",
    "\n",
    "We illustrate the process below, for the 'cap-shape' variable."
   ]
  },
  {
   "cell_type": "code",
   "execution_count": 7,
   "metadata": {},
   "outputs": [
    {
     "data": {
      "text/html": [
       "<div>\n",
       "<style scoped>\n",
       "    .dataframe tbody tr th:only-of-type {\n",
       "        vertical-align: middle;\n",
       "    }\n",
       "\n",
       "    .dataframe tbody tr th {\n",
       "        vertical-align: top;\n",
       "    }\n",
       "\n",
       "    .dataframe thead th {\n",
       "        text-align: right;\n",
       "    }\n",
       "</style>\n",
       "<table border=\"1\" class=\"dataframe\">\n",
       "  <thead>\n",
       "    <tr style=\"text-align: right;\">\n",
       "      <th>1</th>\n",
       "      <th>b</th>\n",
       "      <th>c</th>\n",
       "      <th>f</th>\n",
       "      <th>k</th>\n",
       "      <th>s</th>\n",
       "      <th>x</th>\n",
       "    </tr>\n",
       "    <tr>\n",
       "      <th>0</th>\n",
       "      <th></th>\n",
       "      <th></th>\n",
       "      <th></th>\n",
       "      <th></th>\n",
       "      <th></th>\n",
       "      <th></th>\n",
       "    </tr>\n",
       "  </thead>\n",
       "  <tbody>\n",
       "    <tr>\n",
       "      <th>e</th>\n",
       "      <td>404</td>\n",
       "      <td>0</td>\n",
       "      <td>1596</td>\n",
       "      <td>228</td>\n",
       "      <td>32</td>\n",
       "      <td>1948</td>\n",
       "    </tr>\n",
       "    <tr>\n",
       "      <th>p</th>\n",
       "      <td>48</td>\n",
       "      <td>4</td>\n",
       "      <td>1556</td>\n",
       "      <td>600</td>\n",
       "      <td>0</td>\n",
       "      <td>1708</td>\n",
       "    </tr>\n",
       "  </tbody>\n",
       "</table>\n",
       "</div>"
      ],
      "text/plain": [
       "1    b  c     f    k   s     x\n",
       "0                             \n",
       "e  404  0  1596  228  32  1948\n",
       "p   48  4  1556  600   0  1708"
      ]
     },
     "execution_count": 7,
     "metadata": {},
     "output_type": "execute_result"
    }
   ],
   "source": [
    "#create a bivariate table in a data frame\n",
    "crosstab = pd.crosstab(mr_df[0], mr_df[1])\n",
    "#show table\n",
    "crosstab"
   ]
  },
  {
   "cell_type": "markdown",
   "metadata": {},
   "source": [
    "From the bivariate table above, we can see that the 'cap-shape' variable isn't that independent of the edible/poisonous variable. Only cap-shapes 'f' and 'x' seem to be independent.  \n",
    "\n",
    "The second step is to apply the Chi-Square test using the function chi2_contingency.  \n",
    "To do that we have to import scipy.stats."
   ]
  },
  {
   "cell_type": "code",
   "execution_count": 8,
   "metadata": {},
   "outputs": [
    {
     "data": {
      "text/plain": [
       "(489.9199536189558,\n",
       " 1.1964565685935438e-103,\n",
       " 5,\n",
       " array([[ 234.12309207,    2.07188577, 1632.6459872 ,  428.88035451,\n",
       "           16.57508616, 1893.70359429],\n",
       "        [ 217.87690793,    1.92811423, 1519.3540128 ,  399.11964549,\n",
       "           15.42491384, 1762.29640571]]))"
      ]
     },
     "execution_count": 8,
     "metadata": {},
     "output_type": "execute_result"
    }
   ],
   "source": [
    "#load scipy.stats\n",
    "from scipy import stats\n",
    "\n",
    "#perform Chi-Square test\n",
    "stats.chi2_contingency(crosstab)"
   ]
  },
  {
   "cell_type": "markdown",
   "metadata": {},
   "source": [
    "The function returns a four part output: \n",
    "1. Chi-Square value - The test statistic\n",
    "2. The p-value of the test\n",
    "3. Degrees of freedom\n",
    "4. The expected frequencies, based on the marginal sums of the table (an array of how the observations should have been distributed to be independent of each other).\n",
    "\n",
    "Now instead of testing each variable in the data set seperatly, we use a for loop to extract only the first two results in the output returned by the chi2_contingency() function, and the corresponding index of the variable in our data frame. We sort the results in descendind order of Chi-Square value.  "
   ]
  },
  {
   "cell_type": "code",
   "execution_count": 9,
   "metadata": {},
   "outputs": [
    {
     "data": {
      "text/plain": [
       "[[(7659.726740165339, 0.0), 5],\n",
       " [(4602.0331700846045, 0.0), 20],\n",
       " [(3765.714086241481, 0.0), 9],\n",
       " [(2956.619278057532, 0.0), 19],\n",
       " [(2808.2862874186076, 0.0), 12],\n",
       " [(2684.4740763290565, 0.0), 13],\n",
       " [(2366.8342569059605, 0.0), 8],\n",
       " [(2237.898496448818, 0.0), 14],\n",
       " [(2152.3908905982817, 0.0), 15],\n",
       " [(2041.4156474619554, 0.0), 4],\n",
       " [(1929.7408909028088, 0.0), 21],\n",
       " [(1573.7772608252621, 0.0), 22],\n",
       " [(984.1433330144739, 5.0229776137324786e-216), 7],\n",
       " [(638.2637626946303, 5.103920794627432e-138), 11],\n",
       " [(489.9199536189558, 1.1964565685935438e-103), 1],\n",
       " [(387.5977689772298, 6.055814598336576e-78), 3],\n",
       " [(374.7368308267115, 4.23575764172306e-82), 18],\n",
       " [(315.0428312080377, 5.518427038649143e-68), 2],\n",
       " [(191.22370152470324, 3.32097274916963e-41), 17],\n",
       " [(133.9861812865668, 5.501707411861009e-31), 6],\n",
       " [(84.14203826548719, 4.604746212155192e-20), 10],\n",
       " [(0.0, 1.0), 16]]"
      ]
     },
     "execution_count": 9,
     "metadata": {},
     "output_type": "execute_result"
    }
   ],
   "source": [
    "# create an empty list to hold the results of the test\n",
    "chi_sq=[]\n",
    "\n",
    "#for each  column in the data frame,\n",
    "#perfom Chi-Square test and append the Chi-Square value and p-value to 'chi_sq' list.\n",
    "for i in range(1,23):\n",
    "    chi_sq.append([stats.chi2_contingency(pd.crosstab(mr_df[0], mr_df[i]))[0:2],i])\n",
    "\n",
    "#sort by chi_sq value\n",
    "chi_sq.sort(reverse=True)\n",
    "\n",
    "#show the results for the variables in our data set\n",
    "chi_sq"
   ]
  },
  {
   "cell_type": "markdown",
   "metadata": {},
   "source": [
    "From the output above we can see that the variable with the highest Chi-Square value has index number 5 - it is the 'Odor', the variable we are required to include. Now the reason for it being required is clearer. A high Chi-square value and very low p value indicate that the variables are not independent of each other.\n",
    "\n",
    "In conclusion ,according to the results of the test, we are going to include the following variables:   \n",
    "- index number 20 - 'spore-print-color' \n",
    "- index number 9 - 'gill-color'\n",
    "- index number 19 - 'ring-type'"
   ]
  },
  {
   "cell_type": "markdown",
   "metadata": {},
   "source": [
    "### Phase I: EDA\n",
    "Perform exploratory data analysis: \n",
    "- show the distribution of data for each of the columns you selected.\n",
    "- show plots for edible/poisonous vs. odor as well as the other columns that you selected. \n",
    "- Include text describing your EDA findings."
   ]
  },
  {
   "cell_type": "markdown",
   "metadata": {},
   "source": [
    "Now we are ready to subset our dataset and perform exploratory data analysis."
   ]
  },
  {
   "cell_type": "code",
   "execution_count": 10,
   "metadata": {},
   "outputs": [],
   "source": [
    "#subset the data frame with only the columns we decided to keep \n",
    "mr_sub=mr_df[[0,5,20,9,19]].copy()"
   ]
  },
  {
   "cell_type": "code",
   "execution_count": 11,
   "metadata": {},
   "outputs": [
    {
     "data": {
      "text/html": [
       "<div>\n",
       "<style scoped>\n",
       "    .dataframe tbody tr th:only-of-type {\n",
       "        vertical-align: middle;\n",
       "    }\n",
       "\n",
       "    .dataframe tbody tr th {\n",
       "        vertical-align: top;\n",
       "    }\n",
       "\n",
       "    .dataframe thead th {\n",
       "        text-align: right;\n",
       "    }\n",
       "</style>\n",
       "<table border=\"1\" class=\"dataframe\">\n",
       "  <thead>\n",
       "    <tr style=\"text-align: right;\">\n",
       "      <th></th>\n",
       "      <th>edible</th>\n",
       "      <th>odor</th>\n",
       "      <th>spore_print_color</th>\n",
       "      <th>gill_color</th>\n",
       "      <th>ring_type</th>\n",
       "    </tr>\n",
       "  </thead>\n",
       "  <tbody>\n",
       "    <tr>\n",
       "      <th>0</th>\n",
       "      <td>poisonous</td>\n",
       "      <td>pungent</td>\n",
       "      <td>black</td>\n",
       "      <td>black</td>\n",
       "      <td>pendant</td>\n",
       "    </tr>\n",
       "    <tr>\n",
       "      <th>1</th>\n",
       "      <td>edible</td>\n",
       "      <td>almond</td>\n",
       "      <td>brown</td>\n",
       "      <td>black</td>\n",
       "      <td>pendant</td>\n",
       "    </tr>\n",
       "    <tr>\n",
       "      <th>2</th>\n",
       "      <td>edible</td>\n",
       "      <td>anise</td>\n",
       "      <td>brown</td>\n",
       "      <td>brown</td>\n",
       "      <td>pendant</td>\n",
       "    </tr>\n",
       "    <tr>\n",
       "      <th>3</th>\n",
       "      <td>poisonous</td>\n",
       "      <td>pungent</td>\n",
       "      <td>black</td>\n",
       "      <td>brown</td>\n",
       "      <td>pendant</td>\n",
       "    </tr>\n",
       "    <tr>\n",
       "      <th>4</th>\n",
       "      <td>edible</td>\n",
       "      <td>none</td>\n",
       "      <td>brown</td>\n",
       "      <td>black</td>\n",
       "      <td>evanescent</td>\n",
       "    </tr>\n",
       "  </tbody>\n",
       "</table>\n",
       "</div>"
      ],
      "text/plain": [
       "      edible     odor spore_print_color gill_color   ring_type\n",
       "0  poisonous  pungent             black      black     pendant\n",
       "1     edible   almond             brown      black     pendant\n",
       "2     edible    anise             brown      brown     pendant\n",
       "3  poisonous  pungent             black      brown     pendant\n",
       "4     edible     none             brown      black  evanescent"
      ]
     },
     "execution_count": 11,
     "metadata": {},
     "output_type": "execute_result"
    }
   ],
   "source": [
    "#rename the columns of the subset with meaningful names\n",
    "mr_sub.rename(columns={0:'edible',5:'odor',20:'spore_print_color',9:'gill_color',19:'ring_type'},inplace=True)\n",
    "\n",
    "#rename all the data values of the subset with meaningful names\n",
    "#replace 'edible' column values using a dict\n",
    "mr_sub.edible.replace({'e': 'edible',\n",
    "                       'p': 'poisonous'}, inplace = True)\n",
    "\n",
    "#replace 'odor' column values using a dict\n",
    "mr_sub.odor.replace({'a': 'almond',\n",
    "                     'l': 'anise',\n",
    "                     'c': 'creosote',\n",
    "                     'y': 'fishy',\n",
    "                     'f': 'foul',\n",
    "                     'm': 'musty',\n",
    "                     'n': 'none',\n",
    "                     'p': 'pungent',\n",
    "                     's': 'spicy'}, inplace = True)\n",
    "\n",
    "#replace 'spore_print_color' column values using a dict\n",
    "mr_sub.spore_print_color.replace({'k': 'black',\n",
    "                                  'n': 'brown',\n",
    "                                  'b': 'buff',\n",
    "                                  'h': 'chocolate',\n",
    "                                  'r': 'green', \n",
    "                                  'o': 'orange',\n",
    "                                  'u': 'purple', \n",
    "                                  'w': 'white',\n",
    "                                  'y': 'yellow'}, inplace = True)\n",
    "\n",
    "#replace 'gill_color' column values using a dict\n",
    "mr_sub.gill_color.replace({'k': 'black',\n",
    "                           'n': 'brown',\n",
    "                           'b': 'buff',\n",
    "                           'h': 'chocolate',\n",
    "                           'g': 'gray',\n",
    "                           'r': 'green',\n",
    "                           'o': 'orange', \n",
    "                           'p': 'pink', \n",
    "                           'u': 'purple', \n",
    "                           'e': 'red', \n",
    "                           'w': 'white',\n",
    "                           'y': 'yellow'}, inplace = True)\n",
    "\n",
    "#replace 'ring_type' column values using a dict\n",
    "mr_sub.ring_type.replace({'c': 'cobwebby',\n",
    "                          'e': 'evanescent',\n",
    "                          'f': 'flaring',\n",
    "                          'l': 'large',\n",
    "                          'n': 'none',\n",
    "                          'p': 'pendant',\n",
    "                          's': 'sheathing',\n",
    "                          'z': 'zone'}, inplace = True)\n",
    "                         \n",
    "#check the results are as expected\n",
    "mr_sub.head()"
   ]
  },
  {
   "cell_type": "markdown",
   "metadata": {},
   "source": [
    "Now we'll get descriptive statistics of our variables and show the distribution of data for the edible variable and each of the variables we chose to keep."
   ]
  },
  {
   "cell_type": "code",
   "execution_count": 52,
   "metadata": {},
   "outputs": [
    {
     "data": {
      "text/html": [
       "<div>\n",
       "<style scoped>\n",
       "    .dataframe tbody tr th:only-of-type {\n",
       "        vertical-align: middle;\n",
       "    }\n",
       "\n",
       "    .dataframe tbody tr th {\n",
       "        vertical-align: top;\n",
       "    }\n",
       "\n",
       "    .dataframe thead th {\n",
       "        text-align: right;\n",
       "    }\n",
       "</style>\n",
       "<table border=\"1\" class=\"dataframe\">\n",
       "  <thead>\n",
       "    <tr style=\"text-align: right;\">\n",
       "      <th></th>\n",
       "      <th>edible</th>\n",
       "      <th>odor</th>\n",
       "      <th>spore_print_color</th>\n",
       "      <th>gill_color</th>\n",
       "      <th>ring_type</th>\n",
       "    </tr>\n",
       "  </thead>\n",
       "  <tbody>\n",
       "    <tr>\n",
       "      <th>count</th>\n",
       "      <td>8124</td>\n",
       "      <td>8124</td>\n",
       "      <td>8124</td>\n",
       "      <td>8124</td>\n",
       "      <td>8124</td>\n",
       "    </tr>\n",
       "    <tr>\n",
       "      <th>unique</th>\n",
       "      <td>2</td>\n",
       "      <td>9</td>\n",
       "      <td>9</td>\n",
       "      <td>12</td>\n",
       "      <td>5</td>\n",
       "    </tr>\n",
       "    <tr>\n",
       "      <th>top</th>\n",
       "      <td>edible</td>\n",
       "      <td>none</td>\n",
       "      <td>white</td>\n",
       "      <td>buff</td>\n",
       "      <td>pendant</td>\n",
       "    </tr>\n",
       "    <tr>\n",
       "      <th>freq</th>\n",
       "      <td>4208</td>\n",
       "      <td>3528</td>\n",
       "      <td>2388</td>\n",
       "      <td>1728</td>\n",
       "      <td>3968</td>\n",
       "    </tr>\n",
       "  </tbody>\n",
       "</table>\n",
       "</div>"
      ],
      "text/plain": [
       "        edible  odor spore_print_color gill_color ring_type\n",
       "count     8124  8124              8124       8124      8124\n",
       "unique       2     9                 9         12         5\n",
       "top     edible  none             white       buff   pendant\n",
       "freq      4208  3528              2388       1728      3968"
      ]
     },
     "execution_count": 52,
     "metadata": {},
     "output_type": "execute_result"
    }
   ],
   "source": [
    "#get descriptive statistics for our subset of variables to keep\n",
    "mr_sub.describe()"
   ]
  },
  {
   "cell_type": "code",
   "execution_count": 54,
   "metadata": {},
   "outputs": [
    {
     "data": {
      "image/png": "[encoded data removed]",
      "text/plain": [
       "<Figure size 576x360 with 1 Axes>"
      ]
     },
     "metadata": {
      "needs_background": "light"
     },
     "output_type": "display_data"
    }
   ],
   "source": [
    "#load seaborn \n",
    "import seaborn as sns\n",
    "#load the pyplot function from the matplotlib library\n",
    "import matplotlib.pyplot as plt\n",
    "\n",
    "#set colors for our seaborn plots\n",
    "sns.set_palette(\"muted\")\n",
    "\n",
    "#define figure size \n",
    "plt.figure(figsize=(8,5))\n",
    "\n",
    "#plot the distribution of data for 'edible' variable\n",
    "sns.countplot(mr_sub['edible'], order = mr_sub['edible'].value_counts().index);\n",
    "\n",
    "#give the plot a title using Matplotlib\n",
    "plt.title('Distribution of edible variable');"
   ]
  },
  {
   "cell_type": "markdown",
   "metadata": {},
   "source": [
    "We can see that both classes in the 'edible' variable have a similar frequency, considering the high number of observations.   \n",
    "After we plot the distribution of data for our other variables we can proceed with confronting 'edible' with the other variables."
   ]
  },
  {
   "cell_type": "code",
   "execution_count": 48,
   "metadata": {},
   "outputs": [
    {
     "data": {
      "image/png": "[encoded data removed]",
      "text/plain": [
       "<Figure size 1440x1008 with 4 Axes>"
      ]
     },
     "metadata": {
      "needs_background": "light"
     },
     "output_type": "display_data"
    }
   ],
   "source": [
    "fig = plt.figure(figsize=(20, 14))\n",
    "#plot each variables distribution of observations\n",
    "\n",
    "#plot the distribution of data for 'odor' variable\n",
    "plt.subplot(2, 2, 1)\n",
    "sns.countplot(mr_sub['odor'], order = mr_sub['odor'].value_counts().index);\n",
    "plt.title('Distribution of odor variable');\n",
    "\n",
    "#plot the distribution of data for 'spore_print_color' variable\n",
    "plt.subplot(2, 2, 2)\n",
    "sns.countplot(mr_sub['spore_print_color'], order = mr_sub['spore_print_color'].value_counts().index);\n",
    "plt.title('Distribution of spore_print_color variable');\n",
    "\n",
    "#plot the distribution of data for 'gill_color' variable\n",
    "plt.subplot(2, 2, 3)\n",
    "sns.countplot(mr_sub['gill_color'], order = mr_sub['gill_color'].value_counts().index);\n",
    "plt.title('Distribution of gill_color variable');\n",
    "\n",
    "#plot the distribution of data for 'ring_type' variable\n",
    "plt.subplot(2, 2, 4)\n",
    "sns.countplot(mr_sub['ring_type'], order = mr_sub['ring_type'].value_counts().index);\n",
    "plt.title('Distribution of ring_type variable');\n",
    "\n",
    "plt.show()"
   ]
  },
  {
   "cell_type": "markdown",
   "metadata": {},
   "source": [
    "We can see from the 'odor' plot that odorless (none) and foul mushrooms are most common in our dataset.   \n",
    "From the 'spore_print_color' plot we see most mushrooms in our dataset are either white, brown, black or chocolate.   \n",
    "From the 'gill_color' plot, we see that there is a broader distribution of color.    \n",
    "From the 'ring_type' plot we see that around half of the observations in the dataset are pendant type, evanescent type is second most common.   "
   ]
  },
  {
   "cell_type": "code",
   "execution_count": 59,
   "metadata": {},
   "outputs": [
    {
     "data": {
      "image/png": "[encoded data removed]",
      "text/plain": [
       "<Figure size 1440x1008 with 4 Axes>"
      ]
     },
     "metadata": {
      "needs_background": "light"
     },
     "output_type": "display_data"
    }
   ],
   "source": [
    "fig = plt.figure(figsize=(20,14))\n",
    "#plot each variable we chose to keep vs. edible variable\n",
    "\n",
    "#plot edible vs. odor\n",
    "plt.subplot(2, 2, 1)\n",
    "sns.countplot(x=\"odor\", hue=\"edible\", data=mr_sub,\n",
    "             order = mr_sub['odor'].value_counts().index)\n",
    "plt.title('edible/poisonous vs. odor');\n",
    "\n",
    "#pllt edible vs. spore_print_color\n",
    "plt.subplot(2, 2, 2)\n",
    "sns.countplot(x=\"spore_print_color\", hue=\"edible\", data=mr_sub,\n",
    "             order = mr_sub['spore_print_color'].value_counts().index)\n",
    "plt.title('edible/poisonous vs. spore_print_color');\n",
    "\n",
    "#plot edible vs. gill_color\n",
    "plt.subplot(2, 2, 3)\n",
    "sns.countplot(x=\"gill_color\", hue=\"edible\", data=mr_sub,\n",
    "             order = mr_sub['gill_color'].value_counts().index)\n",
    "plt.title('edible/poisonous vs. gill_color');\n",
    "\n",
    "#edible vs. Cap_color\n",
    "plt.subplot(2, 2, 4)\n",
    "sns.countplot(x=\"ring_type\", hue=\"edible\", data=mr_sub, \n",
    "              order = mr_sub['ring_type'].value_counts().index)\n",
    "plt.title('edible/poisonous vs. ring_type');\n",
    "\n",
    "plt.show()"
   ]
  },
  {
   "cell_type": "markdown",
   "metadata": {},
   "source": [
    "Looking at the above plots it's possible to see that all of the 4 variables would be very helpful to predict if a mushroom is poisonous or edible. For example it's seams very probable that a mushroom with foul odor, chocolate spore print color, buff gill color and large ring type could be poisonous. "
   ]
  },
  {
   "cell_type": "markdown",
   "metadata": {},
   "source": [
    "Now the variables have to be transformed into dummies. This will help us in the next step."
   ]
  },
  {
   "cell_type": "code",
   "execution_count": 19,
   "metadata": {},
   "outputs": [
    {
     "data": {
      "text/html": [
       "<div>\n",
       "<style scoped>\n",
       "    .dataframe tbody tr th:only-of-type {\n",
       "        vertical-align: middle;\n",
       "    }\n",
       "\n",
       "    .dataframe tbody tr th {\n",
       "        vertical-align: top;\n",
       "    }\n",
       "\n",
       "    .dataframe thead th {\n",
       "        text-align: right;\n",
       "    }\n",
       "</style>\n",
       "<table border=\"1\" class=\"dataframe\">\n",
       "  <thead>\n",
       "    <tr style=\"text-align: right;\">\n",
       "      <th></th>\n",
       "      <th>edible_poisonous</th>\n",
       "      <th>odor_anise</th>\n",
       "      <th>odor_creosote</th>\n",
       "      <th>odor_fishy</th>\n",
       "      <th>odor_foul</th>\n",
       "      <th>odor_musty</th>\n",
       "      <th>odor_none</th>\n",
       "      <th>odor_pungent</th>\n",
       "      <th>odor_spicy</th>\n",
       "      <th>spore_print_color_brown</th>\n",
       "      <th>...</th>\n",
       "      <th>gill_color_orange</th>\n",
       "      <th>gill_color_pink</th>\n",
       "      <th>gill_color_purple</th>\n",
       "      <th>gill_color_red</th>\n",
       "      <th>gill_color_white</th>\n",
       "      <th>gill_color_yellow</th>\n",
       "      <th>ring_type_flaring</th>\n",
       "      <th>ring_type_large</th>\n",
       "      <th>ring_type_none</th>\n",
       "      <th>ring_type_pendant</th>\n",
       "    </tr>\n",
       "  </thead>\n",
       "  <tbody>\n",
       "    <tr>\n",
       "      <th>0</th>\n",
       "      <td>1</td>\n",
       "      <td>0</td>\n",
       "      <td>0</td>\n",
       "      <td>0</td>\n",
       "      <td>0</td>\n",
       "      <td>0</td>\n",
       "      <td>0</td>\n",
       "      <td>1</td>\n",
       "      <td>0</td>\n",
       "      <td>0</td>\n",
       "      <td>...</td>\n",
       "      <td>0</td>\n",
       "      <td>0</td>\n",
       "      <td>0</td>\n",
       "      <td>0</td>\n",
       "      <td>0</td>\n",
       "      <td>0</td>\n",
       "      <td>0</td>\n",
       "      <td>0</td>\n",
       "      <td>0</td>\n",
       "      <td>1</td>\n",
       "    </tr>\n",
       "    <tr>\n",
       "      <th>1</th>\n",
       "      <td>0</td>\n",
       "      <td>0</td>\n",
       "      <td>0</td>\n",
       "      <td>0</td>\n",
       "      <td>0</td>\n",
       "      <td>0</td>\n",
       "      <td>0</td>\n",
       "      <td>0</td>\n",
       "      <td>0</td>\n",
       "      <td>1</td>\n",
       "      <td>...</td>\n",
       "      <td>0</td>\n",
       "      <td>0</td>\n",
       "      <td>0</td>\n",
       "      <td>0</td>\n",
       "      <td>0</td>\n",
       "      <td>0</td>\n",
       "      <td>0</td>\n",
       "      <td>0</td>\n",
       "      <td>0</td>\n",
       "      <td>1</td>\n",
       "    </tr>\n",
       "    <tr>\n",
       "      <th>2</th>\n",
       "      <td>0</td>\n",
       "      <td>1</td>\n",
       "      <td>0</td>\n",
       "      <td>0</td>\n",
       "      <td>0</td>\n",
       "      <td>0</td>\n",
       "      <td>0</td>\n",
       "      <td>0</td>\n",
       "      <td>0</td>\n",
       "      <td>1</td>\n",
       "      <td>...</td>\n",
       "      <td>0</td>\n",
       "      <td>0</td>\n",
       "      <td>0</td>\n",
       "      <td>0</td>\n",
       "      <td>0</td>\n",
       "      <td>0</td>\n",
       "      <td>0</td>\n",
       "      <td>0</td>\n",
       "      <td>0</td>\n",
       "      <td>1</td>\n",
       "    </tr>\n",
       "    <tr>\n",
       "      <th>3</th>\n",
       "      <td>1</td>\n",
       "      <td>0</td>\n",
       "      <td>0</td>\n",
       "      <td>0</td>\n",
       "      <td>0</td>\n",
       "      <td>0</td>\n",
       "      <td>0</td>\n",
       "      <td>1</td>\n",
       "      <td>0</td>\n",
       "      <td>0</td>\n",
       "      <td>...</td>\n",
       "      <td>0</td>\n",
       "      <td>0</td>\n",
       "      <td>0</td>\n",
       "      <td>0</td>\n",
       "      <td>0</td>\n",
       "      <td>0</td>\n",
       "      <td>0</td>\n",
       "      <td>0</td>\n",
       "      <td>0</td>\n",
       "      <td>1</td>\n",
       "    </tr>\n",
       "    <tr>\n",
       "      <th>4</th>\n",
       "      <td>0</td>\n",
       "      <td>0</td>\n",
       "      <td>0</td>\n",
       "      <td>0</td>\n",
       "      <td>0</td>\n",
       "      <td>0</td>\n",
       "      <td>1</td>\n",
       "      <td>0</td>\n",
       "      <td>0</td>\n",
       "      <td>1</td>\n",
       "      <td>...</td>\n",
       "      <td>0</td>\n",
       "      <td>0</td>\n",
       "      <td>0</td>\n",
       "      <td>0</td>\n",
       "      <td>0</td>\n",
       "      <td>0</td>\n",
       "      <td>0</td>\n",
       "      <td>0</td>\n",
       "      <td>0</td>\n",
       "      <td>0</td>\n",
       "    </tr>\n",
       "  </tbody>\n",
       "</table>\n",
       "<p>5 rows × 32 columns</p>\n",
       "</div>"
      ],
      "text/plain": [
       "   edible_poisonous  odor_anise  odor_creosote  odor_fishy  odor_foul  \\\n",
       "0                 1           0              0           0          0   \n",
       "1                 0           0              0           0          0   \n",
       "2                 0           1              0           0          0   \n",
       "3                 1           0              0           0          0   \n",
       "4                 0           0              0           0          0   \n",
       "\n",
       "   odor_musty  odor_none  odor_pungent  odor_spicy  spore_print_color_brown  \\\n",
       "0           0          0             1           0                        0   \n",
       "1           0          0             0           0                        1   \n",
       "2           0          0             0           0                        1   \n",
       "3           0          0             1           0                        0   \n",
       "4           0          1             0           0                        1   \n",
       "\n",
       "   ...  gill_color_orange  gill_color_pink  gill_color_purple  gill_color_red  \\\n",
       "0  ...                  0                0                  0               0   \n",
       "1  ...                  0                0                  0               0   \n",
       "2  ...                  0                0                  0               0   \n",
       "3  ...                  0                0                  0               0   \n",
       "4  ...                  0                0                  0               0   \n",
       "\n",
       "   gill_color_white  gill_color_yellow  ring_type_flaring  ring_type_large  \\\n",
       "0                 0                  0                  0                0   \n",
       "1                 0                  0                  0                0   \n",
       "2                 0                  0                  0                0   \n",
       "3                 0                  0                  0                0   \n",
       "4                 0                  0                  0                0   \n",
       "\n",
       "   ring_type_none  ring_type_pendant  \n",
       "0               0                  1  \n",
       "1               0                  1  \n",
       "2               0                  1  \n",
       "3               0                  1  \n",
       "4               0                  0  \n",
       "\n",
       "[5 rows x 32 columns]"
      ]
     },
     "execution_count": 19,
     "metadata": {},
     "output_type": "execute_result"
    }
   ],
   "source": [
    "mr_dum=pd.get_dummies(mr_sub,drop_first =True)\n",
    "mr_dum.head()"
   ]
  },
  {
   "cell_type": "markdown",
   "metadata": {},
   "source": [
    "## Phase II\n",
    "\n",
    "Use scikit-learn to determine which of the predictor columns that you selected most accurately predicts whether or not a mushroom is poisonous."
   ]
  },
  {
   "cell_type": "markdown",
   "metadata": {},
   "source": [
    "From the Chi square test we performed earlier, we know that the variables who are most predective of whether a mushroom is edible or not are in the following order:\n",
    "1. odor\n",
    "2. spore-print-color\n",
    "3. gill-color\n",
    "4. ring-type\n",
    "\n",
    "Now we would like to build a model with all of them. Considering the amount of observations that we have in our dataset, and the number of variables, overfitting doesn't seem to be an issue in this model."
   ]
  },
  {
   "cell_type": "code",
   "execution_count": 20,
   "metadata": {},
   "outputs": [],
   "source": [
    "#load the LogisticRegression() function from sklearn's 'linear_model' sub-library\n",
    "from sklearn.linear_model import LogisticRegression"
   ]
  },
  {
   "cell_type": "markdown",
   "metadata": {},
   "source": [
    "First we have to create rabdom test and a training datasets."
   ]
  },
  {
   "cell_type": "code",
   "execution_count": 21,
   "metadata": {},
   "outputs": [],
   "source": [
    "#import train_test_split to split the dataframe in test and train\n",
    "from sklearn.model_selection import train_test_split\n",
    "\n",
    "#create the 2 dataframe and we chose to have a test sample that is the 20% of the total dataset.\n",
    "train, test = train_test_split(mr_dum, test_size=0.2)"
   ]
  },
  {
   "cell_type": "code",
   "execution_count": 22,
   "metadata": {},
   "outputs": [
    {
     "name": "stdout",
     "output_type": "stream",
     "text": [
      "6499\n"
     ]
    },
    {
     "data": {
      "text/html": [
       "<div>\n",
       "<style scoped>\n",
       "    .dataframe tbody tr th:only-of-type {\n",
       "        vertical-align: middle;\n",
       "    }\n",
       "\n",
       "    .dataframe tbody tr th {\n",
       "        vertical-align: top;\n",
       "    }\n",
       "\n",
       "    .dataframe thead th {\n",
       "        text-align: right;\n",
       "    }\n",
       "</style>\n",
       "<table border=\"1\" class=\"dataframe\">\n",
       "  <thead>\n",
       "    <tr style=\"text-align: right;\">\n",
       "      <th></th>\n",
       "      <th>edible_poisonous</th>\n",
       "      <th>odor_anise</th>\n",
       "      <th>odor_creosote</th>\n",
       "      <th>odor_fishy</th>\n",
       "      <th>odor_foul</th>\n",
       "      <th>odor_musty</th>\n",
       "      <th>odor_none</th>\n",
       "      <th>odor_pungent</th>\n",
       "      <th>odor_spicy</th>\n",
       "      <th>spore_print_color_brown</th>\n",
       "      <th>...</th>\n",
       "      <th>gill_color_orange</th>\n",
       "      <th>gill_color_pink</th>\n",
       "      <th>gill_color_purple</th>\n",
       "      <th>gill_color_red</th>\n",
       "      <th>gill_color_white</th>\n",
       "      <th>gill_color_yellow</th>\n",
       "      <th>ring_type_flaring</th>\n",
       "      <th>ring_type_large</th>\n",
       "      <th>ring_type_none</th>\n",
       "      <th>ring_type_pendant</th>\n",
       "    </tr>\n",
       "  </thead>\n",
       "  <tbody>\n",
       "    <tr>\n",
       "      <th>1248</th>\n",
       "      <td>0</td>\n",
       "      <td>0</td>\n",
       "      <td>0</td>\n",
       "      <td>0</td>\n",
       "      <td>0</td>\n",
       "      <td>0</td>\n",
       "      <td>1</td>\n",
       "      <td>0</td>\n",
       "      <td>0</td>\n",
       "      <td>0</td>\n",
       "      <td>...</td>\n",
       "      <td>0</td>\n",
       "      <td>0</td>\n",
       "      <td>0</td>\n",
       "      <td>0</td>\n",
       "      <td>0</td>\n",
       "      <td>0</td>\n",
       "      <td>0</td>\n",
       "      <td>0</td>\n",
       "      <td>0</td>\n",
       "      <td>0</td>\n",
       "    </tr>\n",
       "    <tr>\n",
       "      <th>2136</th>\n",
       "      <td>0</td>\n",
       "      <td>0</td>\n",
       "      <td>0</td>\n",
       "      <td>0</td>\n",
       "      <td>0</td>\n",
       "      <td>0</td>\n",
       "      <td>1</td>\n",
       "      <td>0</td>\n",
       "      <td>0</td>\n",
       "      <td>1</td>\n",
       "      <td>...</td>\n",
       "      <td>0</td>\n",
       "      <td>0</td>\n",
       "      <td>0</td>\n",
       "      <td>0</td>\n",
       "      <td>1</td>\n",
       "      <td>0</td>\n",
       "      <td>0</td>\n",
       "      <td>0</td>\n",
       "      <td>0</td>\n",
       "      <td>1</td>\n",
       "    </tr>\n",
       "    <tr>\n",
       "      <th>7982</th>\n",
       "      <td>1</td>\n",
       "      <td>0</td>\n",
       "      <td>0</td>\n",
       "      <td>1</td>\n",
       "      <td>0</td>\n",
       "      <td>0</td>\n",
       "      <td>0</td>\n",
       "      <td>0</td>\n",
       "      <td>0</td>\n",
       "      <td>0</td>\n",
       "      <td>...</td>\n",
       "      <td>0</td>\n",
       "      <td>0</td>\n",
       "      <td>0</td>\n",
       "      <td>0</td>\n",
       "      <td>0</td>\n",
       "      <td>0</td>\n",
       "      <td>0</td>\n",
       "      <td>0</td>\n",
       "      <td>0</td>\n",
       "      <td>0</td>\n",
       "    </tr>\n",
       "    <tr>\n",
       "      <th>4255</th>\n",
       "      <td>1</td>\n",
       "      <td>0</td>\n",
       "      <td>0</td>\n",
       "      <td>0</td>\n",
       "      <td>1</td>\n",
       "      <td>0</td>\n",
       "      <td>0</td>\n",
       "      <td>0</td>\n",
       "      <td>0</td>\n",
       "      <td>0</td>\n",
       "      <td>...</td>\n",
       "      <td>0</td>\n",
       "      <td>0</td>\n",
       "      <td>0</td>\n",
       "      <td>0</td>\n",
       "      <td>0</td>\n",
       "      <td>0</td>\n",
       "      <td>0</td>\n",
       "      <td>1</td>\n",
       "      <td>0</td>\n",
       "      <td>0</td>\n",
       "    </tr>\n",
       "    <tr>\n",
       "      <th>320</th>\n",
       "      <td>0</td>\n",
       "      <td>1</td>\n",
       "      <td>0</td>\n",
       "      <td>0</td>\n",
       "      <td>0</td>\n",
       "      <td>0</td>\n",
       "      <td>0</td>\n",
       "      <td>0</td>\n",
       "      <td>0</td>\n",
       "      <td>1</td>\n",
       "      <td>...</td>\n",
       "      <td>0</td>\n",
       "      <td>0</td>\n",
       "      <td>0</td>\n",
       "      <td>0</td>\n",
       "      <td>0</td>\n",
       "      <td>0</td>\n",
       "      <td>0</td>\n",
       "      <td>0</td>\n",
       "      <td>0</td>\n",
       "      <td>1</td>\n",
       "    </tr>\n",
       "  </tbody>\n",
       "</table>\n",
       "<p>5 rows × 32 columns</p>\n",
       "</div>"
      ],
      "text/plain": [
       "      edible_poisonous  odor_anise  odor_creosote  odor_fishy  odor_foul  \\\n",
       "1248                 0           0              0           0          0   \n",
       "2136                 0           0              0           0          0   \n",
       "7982                 1           0              0           1          0   \n",
       "4255                 1           0              0           0          1   \n",
       "320                  0           1              0           0          0   \n",
       "\n",
       "      odor_musty  odor_none  odor_pungent  odor_spicy  \\\n",
       "1248           0          1             0           0   \n",
       "2136           0          1             0           0   \n",
       "7982           0          0             0           0   \n",
       "4255           0          0             0           0   \n",
       "320            0          0             0           0   \n",
       "\n",
       "      spore_print_color_brown  ...  gill_color_orange  gill_color_pink  \\\n",
       "1248                        0  ...                  0                0   \n",
       "2136                        1  ...                  0                0   \n",
       "7982                        0  ...                  0                0   \n",
       "4255                        0  ...                  0                0   \n",
       "320                         1  ...                  0                0   \n",
       "\n",
       "      gill_color_purple  gill_color_red  gill_color_white  gill_color_yellow  \\\n",
       "1248                  0               0                 0                  0   \n",
       "2136                  0               0                 1                  0   \n",
       "7982                  0               0                 0                  0   \n",
       "4255                  0               0                 0                  0   \n",
       "320                   0               0                 0                  0   \n",
       "\n",
       "      ring_type_flaring  ring_type_large  ring_type_none  ring_type_pendant  \n",
       "1248                  0                0               0                  0  \n",
       "2136                  0                0               0                  1  \n",
       "7982                  0                0               0                  0  \n",
       "4255                  0                1               0                  0  \n",
       "320                   0                0               0                  1  \n",
       "\n",
       "[5 rows x 32 columns]"
      ]
     },
     "execution_count": 22,
     "metadata": {},
     "output_type": "execute_result"
    }
   ],
   "source": [
    "#just to check if the train sample is as expected\n",
    "print(len(train))\n",
    "train.head()"
   ]
  },
  {
   "cell_type": "code",
   "execution_count": 23,
   "metadata": {},
   "outputs": [
    {
     "name": "stdout",
     "output_type": "stream",
     "text": [
      "1625\n"
     ]
    },
    {
     "data": {
      "text/html": [
       "<div>\n",
       "<style scoped>\n",
       "    .dataframe tbody tr th:only-of-type {\n",
       "        vertical-align: middle;\n",
       "    }\n",
       "\n",
       "    .dataframe tbody tr th {\n",
       "        vertical-align: top;\n",
       "    }\n",
       "\n",
       "    .dataframe thead th {\n",
       "        text-align: right;\n",
       "    }\n",
       "</style>\n",
       "<table border=\"1\" class=\"dataframe\">\n",
       "  <thead>\n",
       "    <tr style=\"text-align: right;\">\n",
       "      <th></th>\n",
       "      <th>edible_poisonous</th>\n",
       "      <th>odor_anise</th>\n",
       "      <th>odor_creosote</th>\n",
       "      <th>odor_fishy</th>\n",
       "      <th>odor_foul</th>\n",
       "      <th>odor_musty</th>\n",
       "      <th>odor_none</th>\n",
       "      <th>odor_pungent</th>\n",
       "      <th>odor_spicy</th>\n",
       "      <th>spore_print_color_brown</th>\n",
       "      <th>...</th>\n",
       "      <th>gill_color_orange</th>\n",
       "      <th>gill_color_pink</th>\n",
       "      <th>gill_color_purple</th>\n",
       "      <th>gill_color_red</th>\n",
       "      <th>gill_color_white</th>\n",
       "      <th>gill_color_yellow</th>\n",
       "      <th>ring_type_flaring</th>\n",
       "      <th>ring_type_large</th>\n",
       "      <th>ring_type_none</th>\n",
       "      <th>ring_type_pendant</th>\n",
       "    </tr>\n",
       "  </thead>\n",
       "  <tbody>\n",
       "    <tr>\n",
       "      <th>2830</th>\n",
       "      <td>0</td>\n",
       "      <td>0</td>\n",
       "      <td>0</td>\n",
       "      <td>0</td>\n",
       "      <td>0</td>\n",
       "      <td>0</td>\n",
       "      <td>1</td>\n",
       "      <td>0</td>\n",
       "      <td>0</td>\n",
       "      <td>0</td>\n",
       "      <td>...</td>\n",
       "      <td>0</td>\n",
       "      <td>0</td>\n",
       "      <td>0</td>\n",
       "      <td>0</td>\n",
       "      <td>1</td>\n",
       "      <td>0</td>\n",
       "      <td>0</td>\n",
       "      <td>0</td>\n",
       "      <td>0</td>\n",
       "      <td>1</td>\n",
       "    </tr>\n",
       "    <tr>\n",
       "      <th>3270</th>\n",
       "      <td>1</td>\n",
       "      <td>0</td>\n",
       "      <td>1</td>\n",
       "      <td>0</td>\n",
       "      <td>0</td>\n",
       "      <td>0</td>\n",
       "      <td>0</td>\n",
       "      <td>0</td>\n",
       "      <td>0</td>\n",
       "      <td>1</td>\n",
       "      <td>...</td>\n",
       "      <td>0</td>\n",
       "      <td>1</td>\n",
       "      <td>0</td>\n",
       "      <td>0</td>\n",
       "      <td>0</td>\n",
       "      <td>0</td>\n",
       "      <td>0</td>\n",
       "      <td>0</td>\n",
       "      <td>0</td>\n",
       "      <td>1</td>\n",
       "    </tr>\n",
       "    <tr>\n",
       "      <th>2261</th>\n",
       "      <td>0</td>\n",
       "      <td>0</td>\n",
       "      <td>0</td>\n",
       "      <td>0</td>\n",
       "      <td>0</td>\n",
       "      <td>0</td>\n",
       "      <td>1</td>\n",
       "      <td>0</td>\n",
       "      <td>0</td>\n",
       "      <td>0</td>\n",
       "      <td>...</td>\n",
       "      <td>0</td>\n",
       "      <td>0</td>\n",
       "      <td>0</td>\n",
       "      <td>0</td>\n",
       "      <td>1</td>\n",
       "      <td>0</td>\n",
       "      <td>0</td>\n",
       "      <td>0</td>\n",
       "      <td>0</td>\n",
       "      <td>1</td>\n",
       "    </tr>\n",
       "    <tr>\n",
       "      <th>735</th>\n",
       "      <td>0</td>\n",
       "      <td>0</td>\n",
       "      <td>0</td>\n",
       "      <td>0</td>\n",
       "      <td>0</td>\n",
       "      <td>0</td>\n",
       "      <td>0</td>\n",
       "      <td>0</td>\n",
       "      <td>0</td>\n",
       "      <td>1</td>\n",
       "      <td>...</td>\n",
       "      <td>0</td>\n",
       "      <td>0</td>\n",
       "      <td>0</td>\n",
       "      <td>0</td>\n",
       "      <td>1</td>\n",
       "      <td>0</td>\n",
       "      <td>0</td>\n",
       "      <td>0</td>\n",
       "      <td>0</td>\n",
       "      <td>1</td>\n",
       "    </tr>\n",
       "    <tr>\n",
       "      <th>5415</th>\n",
       "      <td>0</td>\n",
       "      <td>0</td>\n",
       "      <td>0</td>\n",
       "      <td>0</td>\n",
       "      <td>0</td>\n",
       "      <td>0</td>\n",
       "      <td>1</td>\n",
       "      <td>0</td>\n",
       "      <td>0</td>\n",
       "      <td>0</td>\n",
       "      <td>...</td>\n",
       "      <td>0</td>\n",
       "      <td>0</td>\n",
       "      <td>0</td>\n",
       "      <td>1</td>\n",
       "      <td>0</td>\n",
       "      <td>0</td>\n",
       "      <td>0</td>\n",
       "      <td>0</td>\n",
       "      <td>0</td>\n",
       "      <td>0</td>\n",
       "    </tr>\n",
       "  </tbody>\n",
       "</table>\n",
       "<p>5 rows × 32 columns</p>\n",
       "</div>"
      ],
      "text/plain": [
       "      edible_poisonous  odor_anise  odor_creosote  odor_fishy  odor_foul  \\\n",
       "2830                 0           0              0           0          0   \n",
       "3270                 1           0              1           0          0   \n",
       "2261                 0           0              0           0          0   \n",
       "735                  0           0              0           0          0   \n",
       "5415                 0           0              0           0          0   \n",
       "\n",
       "      odor_musty  odor_none  odor_pungent  odor_spicy  \\\n",
       "2830           0          1             0           0   \n",
       "3270           0          0             0           0   \n",
       "2261           0          1             0           0   \n",
       "735            0          0             0           0   \n",
       "5415           0          1             0           0   \n",
       "\n",
       "      spore_print_color_brown  ...  gill_color_orange  gill_color_pink  \\\n",
       "2830                        0  ...                  0                0   \n",
       "3270                        1  ...                  0                1   \n",
       "2261                        0  ...                  0                0   \n",
       "735                         1  ...                  0                0   \n",
       "5415                        0  ...                  0                0   \n",
       "\n",
       "      gill_color_purple  gill_color_red  gill_color_white  gill_color_yellow  \\\n",
       "2830                  0               0                 1                  0   \n",
       "3270                  0               0                 0                  0   \n",
       "2261                  0               0                 1                  0   \n",
       "735                   0               0                 1                  0   \n",
       "5415                  0               1                 0                  0   \n",
       "\n",
       "      ring_type_flaring  ring_type_large  ring_type_none  ring_type_pendant  \n",
       "2830                  0                0               0                  1  \n",
       "3270                  0                0               0                  1  \n",
       "2261                  0                0               0                  1  \n",
       "735                   0                0               0                  1  \n",
       "5415                  0                0               0                  0  \n",
       "\n",
       "[5 rows x 32 columns]"
      ]
     },
     "execution_count": 23,
     "metadata": {},
     "output_type": "execute_result"
    }
   ],
   "source": [
    "#just to check if the test sample is as expected\n",
    "print(len(test))\n",
    "test.head()"
   ]
  },
  {
   "cell_type": "markdown",
   "metadata": {},
   "source": [
    "Now let's check if the proportion of edible and poisonous is the same as in the beginning, applying the describe() on both the samples."
   ]
  },
  {
   "cell_type": "code",
   "execution_count": 24,
   "metadata": {},
   "outputs": [
    {
     "data": {
      "text/plain": [
       "count    6499.000000\n",
       "mean        0.483921\n",
       "std         0.499780\n",
       "min         0.000000\n",
       "25%         0.000000\n",
       "50%         0.000000\n",
       "75%         1.000000\n",
       "max         1.000000\n",
       "Name: edible_poisonous, dtype: float64"
      ]
     },
     "execution_count": 24,
     "metadata": {},
     "output_type": "execute_result"
    }
   ],
   "source": [
    "train['edible_poisonous'].describe()"
   ]
  },
  {
   "cell_type": "code",
   "execution_count": 25,
   "metadata": {},
   "outputs": [
    {
     "data": {
      "text/plain": [
       "count    1625.000000\n",
       "mean        0.474462\n",
       "std         0.499501\n",
       "min         0.000000\n",
       "25%         0.000000\n",
       "50%         0.000000\n",
       "75%         1.000000\n",
       "max         1.000000\n",
       "Name: edible_poisonous, dtype: float64"
      ]
     },
     "execution_count": 25,
     "metadata": {},
     "output_type": "execute_result"
    }
   ],
   "source": [
    "test['edible_poisonous'].describe()"
   ]
  },
  {
   "cell_type": "markdown",
   "metadata": {},
   "source": [
    "Yes the proportion has not changed between test and train datsets, and also considering the entire dataset."
   ]
  },
  {
   "cell_type": "markdown",
   "metadata": {},
   "source": [
    "Now we have to evaluate the accuracy of the train model .We can already see it in the describe but let's confirm."
   ]
  },
  {
   "cell_type": "code",
   "execution_count": 26,
   "metadata": {},
   "outputs": [
    {
     "data": {
      "text/plain": [
       "0.4839206031697184"
      ]
     },
     "execution_count": 26,
     "metadata": {},
     "output_type": "execute_result"
    }
   ],
   "source": [
    "# what percentage of the training set poisonous?\n",
    "train.edible_poisonous.values.sum() / train.shape[0]"
   ]
  },
  {
   "cell_type": "markdown",
   "metadata": {},
   "source": [
    "In the train dataset 48% of the mushrooms are poisonous so we should achieve a training model accuracy of 48% by simply predicting \"Poisonous\" for each mushroom.  \n",
    "\n",
    "\n",
    "Now we want to check for null values in our two samples."
   ]
  },
  {
   "cell_type": "code",
   "execution_count": 27,
   "metadata": {},
   "outputs": [
    {
     "data": {
      "text/plain": [
       "edible_poisonous               0\n",
       "odor_anise                     0\n",
       "odor_creosote                  0\n",
       "odor_fishy                     0\n",
       "odor_foul                      0\n",
       "odor_musty                     0\n",
       "odor_none                      0\n",
       "odor_pungent                   0\n",
       "odor_spicy                     0\n",
       "spore_print_color_brown        0\n",
       "spore_print_color_buff         0\n",
       "spore_print_color_chocolate    0\n",
       "spore_print_color_green        0\n",
       "spore_print_color_orange       0\n",
       "spore_print_color_purple       0\n",
       "spore_print_color_white        0\n",
       "spore_print_color_yellow       0\n",
       "gill_color_brown               0\n",
       "gill_color_buff                0\n",
       "gill_color_chocolate           0\n",
       "gill_color_gray                0\n",
       "gill_color_green               0\n",
       "gill_color_orange              0\n",
       "gill_color_pink                0\n",
       "gill_color_purple              0\n",
       "gill_color_red                 0\n",
       "gill_color_white               0\n",
       "gill_color_yellow              0\n",
       "ring_type_flaring              0\n",
       "ring_type_large                0\n",
       "ring_type_none                 0\n",
       "ring_type_pendant              0\n",
       "dtype: int64"
      ]
     },
     "execution_count": 27,
     "metadata": {},
     "output_type": "execute_result"
    }
   ],
   "source": [
    "# check the training data for null values\n",
    "train.isnull().sum()"
   ]
  },
  {
   "cell_type": "code",
   "execution_count": 28,
   "metadata": {},
   "outputs": [
    {
     "data": {
      "text/plain": [
       "edible_poisonous               0\n",
       "odor_anise                     0\n",
       "odor_creosote                  0\n",
       "odor_fishy                     0\n",
       "odor_foul                      0\n",
       "odor_musty                     0\n",
       "odor_none                      0\n",
       "odor_pungent                   0\n",
       "odor_spicy                     0\n",
       "spore_print_color_brown        0\n",
       "spore_print_color_buff         0\n",
       "spore_print_color_chocolate    0\n",
       "spore_print_color_green        0\n",
       "spore_print_color_orange       0\n",
       "spore_print_color_purple       0\n",
       "spore_print_color_white        0\n",
       "spore_print_color_yellow       0\n",
       "gill_color_brown               0\n",
       "gill_color_buff                0\n",
       "gill_color_chocolate           0\n",
       "gill_color_gray                0\n",
       "gill_color_green               0\n",
       "gill_color_orange              0\n",
       "gill_color_pink                0\n",
       "gill_color_purple              0\n",
       "gill_color_red                 0\n",
       "gill_color_white               0\n",
       "gill_color_yellow              0\n",
       "ring_type_flaring              0\n",
       "ring_type_large                0\n",
       "ring_type_none                 0\n",
       "ring_type_pendant              0\n",
       "dtype: int64"
      ]
     },
     "execution_count": 28,
     "metadata": {},
     "output_type": "execute_result"
    }
   ],
   "source": [
    "# check the test data for null values\n",
    "test.isnull().sum()"
   ]
  },
  {
   "cell_type": "markdown",
   "metadata": {},
   "source": [
    "In both dataset we don't have missing values."
   ]
  },
  {
   "cell_type": "markdown",
   "metadata": {},
   "source": [
    "We have to separate the explanatory variables from the response indicator."
   ]
  },
  {
   "cell_type": "code",
   "execution_count": 29,
   "metadata": {},
   "outputs": [
    {
     "data": {
      "text/plain": [
       "array([[0, 0, 0, 0, 0, 1, 0, 0, 0, 0, 0, 0, 0, 0, 0, 0, 1, 0, 0, 0, 0, 0,\n",
       "        0, 0, 0, 0, 0, 0, 0, 0, 0],\n",
       "       [0, 0, 0, 0, 0, 1, 0, 0, 1, 0, 0, 0, 0, 0, 0, 0, 0, 0, 0, 0, 0, 0,\n",
       "        0, 0, 0, 1, 0, 0, 0, 0, 1],\n",
       "       [0, 0, 1, 0, 0, 0, 0, 0, 0, 0, 0, 0, 0, 0, 1, 0, 0, 1, 0, 0, 0, 0,\n",
       "        0, 0, 0, 0, 0, 0, 0, 0, 0],\n",
       "       [0, 0, 0, 1, 0, 0, 0, 0, 0, 0, 1, 0, 0, 0, 0, 0, 0, 0, 1, 0, 0, 0,\n",
       "        0, 0, 0, 0, 0, 0, 1, 0, 0],\n",
       "       [1, 0, 0, 0, 0, 0, 0, 0, 1, 0, 0, 0, 0, 0, 0, 0, 0, 0, 0, 0, 0, 0,\n",
       "        0, 0, 0, 0, 0, 0, 0, 0, 1]], dtype=uint8)"
      ]
     },
     "execution_count": 29,
     "metadata": {},
     "output_type": "execute_result"
    }
   ],
   "source": [
    "# create a subset of the training data using ONLY the selected explanatory variables\n",
    "X_train = train.loc[:, train.columns != 'edible_poisonous'].values\n",
    "\n",
    "# create a subset of the testing data using ONLY the selected explanatory variables\n",
    "X_test = test.loc[:, train.columns != 'edible_poisonous'].values\n",
    "\n",
    "#create the response for the test dataframe.\n",
    "y_test=test['edible_poisonous'].values\n",
    "# isolate the response indicator for the training data\n",
    "y_train = train['edible_poisonous'].values\n",
    "\n",
    "# sanity check on training data\n",
    "X_train[:5]"
   ]
  },
  {
   "cell_type": "code",
   "execution_count": 30,
   "metadata": {},
   "outputs": [
    {
     "data": {
      "text/plain": [
       "array([0, 0, 1, 1, 0], dtype=uint8)"
      ]
     },
     "execution_count": 30,
     "metadata": {},
     "output_type": "execute_result"
    }
   ],
   "source": [
    "# sanity check on response indicator\n",
    "y_train[:5]"
   ]
  },
  {
   "cell_type": "markdown",
   "metadata": {},
   "source": [
    "Since everything seems correct we can proceed with the logistic regression. "
   ]
  },
  {
   "cell_type": "code",
   "execution_count": 41,
   "metadata": {},
   "outputs": [
    {
     "name": "stderr",
     "output_type": "stream",
     "text": [
      "/Users/michael/anaconda3/lib/python3.7/site-packages/sklearn/linear_model/logistic.py:433: FutureWarning: Default solver will be changed to 'lbfgs' in 0.22. Specify a solver to silence this warning.\n",
      "  FutureWarning)\n"
     ]
    },
    {
     "data": {
      "text/plain": [
       "LogisticRegression(C=1.0, class_weight=None, dual=False, fit_intercept=True,\n",
       "          intercept_scaling=1, max_iter=100, multi_class='warn',\n",
       "          n_jobs=None, penalty='l2', random_state=None, solver='warn',\n",
       "          tol=0.0001, verbose=0, warm_start=False)"
      ]
     },
     "execution_count": 41,
     "metadata": {},
     "output_type": "execute_result"
    }
   ],
   "source": [
    "#we're using the LogisticRegression() method for this model\n",
    "model = LogisticRegression()\n",
    "\n",
    "#fit the model: X_train contains our explanatory variables while \n",
    "#y_train contains the response variable\n",
    "model.fit(X_train, y_train)"
   ]
  },
  {
   "cell_type": "code",
   "execution_count": 32,
   "metadata": {},
   "outputs": [
    {
     "data": {
      "text/plain": [
       "0.9941529466071704"
      ]
     },
     "execution_count": 32,
     "metadata": {},
     "output_type": "execute_result"
    }
   ],
   "source": [
    "#calculate the accuracy of the model relative to the training data set\n",
    "model.score(X_train, y_train)"
   ]
  },
  {
   "cell_type": "markdown",
   "metadata": {},
   "source": [
    "It seems that our model has a really high level of prediction of the edible or poisonous type of mushroom.  \n",
    "Now let's see which attribute has more impact on the variable."
   ]
  },
  {
   "cell_type": "code",
   "execution_count": 33,
   "metadata": {},
   "outputs": [],
   "source": [
    "coeff=(pd.DataFrame(zip(train.loc[:, train.columns != 'edible_poisonous'].columns, np.transpose(model.coef_)))).sort_values(by=1)\n",
    "coeff.rename(columns={0:'variable',1:'coefficient'},inplace=True)"
   ]
  },
  {
   "cell_type": "code",
   "execution_count": 34,
   "metadata": {},
   "outputs": [
    {
     "data": {
      "text/html": [
       "<div>\n",
       "<style scoped>\n",
       "    .dataframe tbody tr th:only-of-type {\n",
       "        vertical-align: middle;\n",
       "    }\n",
       "\n",
       "    .dataframe tbody tr th {\n",
       "        vertical-align: top;\n",
       "    }\n",
       "\n",
       "    .dataframe thead th {\n",
       "        text-align: right;\n",
       "    }\n",
       "</style>\n",
       "<table border=\"1\" class=\"dataframe\">\n",
       "  <thead>\n",
       "    <tr style=\"text-align: right;\">\n",
       "      <th></th>\n",
       "      <th>variable</th>\n",
       "      <th>coefficient</th>\n",
       "      <th>exponential</th>\n",
       "    </tr>\n",
       "  </thead>\n",
       "  <tbody>\n",
       "    <tr>\n",
       "      <th>5</th>\n",
       "      <td>odor_none</td>\n",
       "      <td>[-3.3420319761597947]</td>\n",
       "      <td>[0.03536510327872752]</td>\n",
       "    </tr>\n",
       "    <tr>\n",
       "      <th>0</th>\n",
       "      <td>odor_anise</td>\n",
       "      <td>[-2.0948804044523386]</td>\n",
       "      <td>[0.123085136629803]</td>\n",
       "    </tr>\n",
       "    <tr>\n",
       "      <th>24</th>\n",
       "      <td>gill_color_red</td>\n",
       "      <td>[-1.9053305643665568]</td>\n",
       "      <td>[0.14877364596180856]</td>\n",
       "    </tr>\n",
       "    <tr>\n",
       "      <th>30</th>\n",
       "      <td>ring_type_pendant</td>\n",
       "      <td>[-1.504542206407934]</td>\n",
       "      <td>[0.22211917998671654]</td>\n",
       "    </tr>\n",
       "    <tr>\n",
       "      <th>27</th>\n",
       "      <td>ring_type_flaring</td>\n",
       "      <td>[-1.4894070948182772]</td>\n",
       "      <td>[0.22550654570038114]</td>\n",
       "    </tr>\n",
       "    <tr>\n",
       "      <th>13</th>\n",
       "      <td>spore_print_color_purple</td>\n",
       "      <td>[-0.7410701753350006]</td>\n",
       "      <td>[0.4766038306713861]</td>\n",
       "    </tr>\n",
       "    <tr>\n",
       "      <th>8</th>\n",
       "      <td>spore_print_color_brown</td>\n",
       "      <td>[-0.7063632145182959]</td>\n",
       "      <td>[0.4934356916293932]</td>\n",
       "    </tr>\n",
       "    <tr>\n",
       "      <th>16</th>\n",
       "      <td>gill_color_brown</td>\n",
       "      <td>[-0.504142296859126]</td>\n",
       "      <td>[0.60402363093599]</td>\n",
       "    </tr>\n",
       "    <tr>\n",
       "      <th>22</th>\n",
       "      <td>gill_color_pink</td>\n",
       "      <td>[-0.35676885534968183]</td>\n",
       "      <td>[0.6999344330703355]</td>\n",
       "    </tr>\n",
       "    <tr>\n",
       "      <th>12</th>\n",
       "      <td>spore_print_color_orange</td>\n",
       "      <td>[-0.21063024699620336]</td>\n",
       "      <td>[0.8100736534088246]</td>\n",
       "    </tr>\n",
       "    <tr>\n",
       "      <th>19</th>\n",
       "      <td>gill_color_gray</td>\n",
       "      <td>[-0.20774849238841223]</td>\n",
       "      <td>[0.812411452182998]</td>\n",
       "    </tr>\n",
       "    <tr>\n",
       "      <th>18</th>\n",
       "      <td>gill_color_chocolate</td>\n",
       "      <td>[-0.20100774743650046]</td>\n",
       "      <td>[0.8179062054415678]</td>\n",
       "    </tr>\n",
       "    <tr>\n",
       "      <th>15</th>\n",
       "      <td>spore_print_color_yellow</td>\n",
       "      <td>[-0.18988553928021598]</td>\n",
       "      <td>[0.8270538993355006]</td>\n",
       "    </tr>\n",
       "    <tr>\n",
       "      <th>9</th>\n",
       "      <td>spore_print_color_buff</td>\n",
       "      <td>[-0.1861723607241607]</td>\n",
       "      <td>[0.8301306047128215]</td>\n",
       "    </tr>\n",
       "    <tr>\n",
       "      <th>21</th>\n",
       "      <td>gill_color_orange</td>\n",
       "      <td>[-0.09764985413264936]</td>\n",
       "      <td>[0.9069664782793215]</td>\n",
       "    </tr>\n",
       "    <tr>\n",
       "      <th>23</th>\n",
       "      <td>gill_color_purple</td>\n",
       "      <td>[0.016032041062544126]</td>\n",
       "      <td>[1.0161612328121776]</td>\n",
       "    </tr>\n",
       "    <tr>\n",
       "      <th>25</th>\n",
       "      <td>gill_color_white</td>\n",
       "      <td>[0.21830687369475105]</td>\n",
       "      <td>[1.2439685676682253]</td>\n",
       "    </tr>\n",
       "    <tr>\n",
       "      <th>4</th>\n",
       "      <td>odor_musty</td>\n",
       "      <td>[0.7117321232489426]</td>\n",
       "      <td>[2.0375164597402953]</td>\n",
       "    </tr>\n",
       "    <tr>\n",
       "      <th>29</th>\n",
       "      <td>ring_type_none</td>\n",
       "      <td>[0.7117321232489426]</td>\n",
       "      <td>[2.0375164597402953]</td>\n",
       "    </tr>\n",
       "    <tr>\n",
       "      <th>28</th>\n",
       "      <td>ring_type_large</td>\n",
       "      <td>[1.1303860217653385]</td>\n",
       "      <td>[3.0968493668749777]</td>\n",
       "    </tr>\n",
       "    <tr>\n",
       "      <th>20</th>\n",
       "      <td>gill_color_green</td>\n",
       "      <td>[1.3368931005972058]</td>\n",
       "      <td>[3.8071931109070127]</td>\n",
       "    </tr>\n",
       "    <tr>\n",
       "      <th>2</th>\n",
       "      <td>odor_fishy</td>\n",
       "      <td>[1.3669117576366987]</td>\n",
       "      <td>[3.923212518402274]</td>\n",
       "    </tr>\n",
       "    <tr>\n",
       "      <th>7</th>\n",
       "      <td>odor_spicy</td>\n",
       "      <td>[1.3844898957239158]</td>\n",
       "      <td>[3.9927849282855514]</td>\n",
       "    </tr>\n",
       "    <tr>\n",
       "      <th>26</th>\n",
       "      <td>gill_color_yellow</td>\n",
       "      <td>[1.6525085407806435]</td>\n",
       "      <td>[5.220052342881884]</td>\n",
       "    </tr>\n",
       "    <tr>\n",
       "      <th>14</th>\n",
       "      <td>spore_print_color_white</td>\n",
       "      <td>[2.6156275272974194]</td>\n",
       "      <td>[13.675771559527421]</td>\n",
       "    </tr>\n",
       "    <tr>\n",
       "      <th>10</th>\n",
       "      <td>spore_print_color_chocolate</td>\n",
       "      <td>[2.699041231490461]</td>\n",
       "      <td>[14.865445354980368]</td>\n",
       "    </tr>\n",
       "    <tr>\n",
       "      <th>17</th>\n",
       "      <td>gill_color_buff</td>\n",
       "      <td>[2.824964308147901]</td>\n",
       "      <td>[16.860311160144295]</td>\n",
       "    </tr>\n",
       "    <tr>\n",
       "      <th>3</th>\n",
       "      <td>odor_foul</td>\n",
       "      <td>[4.262010981096026]</td>\n",
       "      <td>[70.95232085763229]</td>\n",
       "    </tr>\n",
       "    <tr>\n",
       "      <th>1</th>\n",
       "      <td>odor_creosote</td>\n",
       "      <td>[6.345848055139839]</td>\n",
       "      <td>[570.1182449459012]</td>\n",
       "    </tr>\n",
       "    <tr>\n",
       "      <th>6</th>\n",
       "      <td>odor_pungent</td>\n",
       "      <td>[6.54978777742544]</td>\n",
       "      <td>[699.0927141400733]</td>\n",
       "    </tr>\n",
       "    <tr>\n",
       "      <th>11</th>\n",
       "      <td>spore_print_color_green</td>\n",
       "      <td>[7.199832515465984]</td>\n",
       "      <td>[1339.1999634985816]</td>\n",
       "    </tr>\n",
       "  </tbody>\n",
       "</table>\n",
       "</div>"
      ],
      "text/plain": [
       "                       variable             coefficient            exponential\n",
       "5                     odor_none   [-3.3420319761597947]  [0.03536510327872752]\n",
       "0                    odor_anise   [-2.0948804044523386]    [0.123085136629803]\n",
       "24               gill_color_red   [-1.9053305643665568]  [0.14877364596180856]\n",
       "30            ring_type_pendant    [-1.504542206407934]  [0.22211917998671654]\n",
       "27            ring_type_flaring   [-1.4894070948182772]  [0.22550654570038114]\n",
       "13     spore_print_color_purple   [-0.7410701753350006]   [0.4766038306713861]\n",
       "8       spore_print_color_brown   [-0.7063632145182959]   [0.4934356916293932]\n",
       "16             gill_color_brown    [-0.504142296859126]     [0.60402363093599]\n",
       "22              gill_color_pink  [-0.35676885534968183]   [0.6999344330703355]\n",
       "12     spore_print_color_orange  [-0.21063024699620336]   [0.8100736534088246]\n",
       "19              gill_color_gray  [-0.20774849238841223]    [0.812411452182998]\n",
       "18         gill_color_chocolate  [-0.20100774743650046]   [0.8179062054415678]\n",
       "15     spore_print_color_yellow  [-0.18988553928021598]   [0.8270538993355006]\n",
       "9        spore_print_color_buff   [-0.1861723607241607]   [0.8301306047128215]\n",
       "21            gill_color_orange  [-0.09764985413264936]   [0.9069664782793215]\n",
       "23            gill_color_purple  [0.016032041062544126]   [1.0161612328121776]\n",
       "25             gill_color_white   [0.21830687369475105]   [1.2439685676682253]\n",
       "4                    odor_musty    [0.7117321232489426]   [2.0375164597402953]\n",
       "29               ring_type_none    [0.7117321232489426]   [2.0375164597402953]\n",
       "28              ring_type_large    [1.1303860217653385]   [3.0968493668749777]\n",
       "20             gill_color_green    [1.3368931005972058]   [3.8071931109070127]\n",
       "2                    odor_fishy    [1.3669117576366987]    [3.923212518402274]\n",
       "7                    odor_spicy    [1.3844898957239158]   [3.9927849282855514]\n",
       "26            gill_color_yellow    [1.6525085407806435]    [5.220052342881884]\n",
       "14      spore_print_color_white    [2.6156275272974194]   [13.675771559527421]\n",
       "10  spore_print_color_chocolate     [2.699041231490461]   [14.865445354980368]\n",
       "17              gill_color_buff     [2.824964308147901]   [16.860311160144295]\n",
       "3                     odor_foul     [4.262010981096026]    [70.95232085763229]\n",
       "1                 odor_creosote     [6.345848055139839]    [570.1182449459012]\n",
       "6                  odor_pungent      [6.54978777742544]    [699.0927141400733]\n",
       "11      spore_print_color_green     [7.199832515465984]   [1339.1999634985816]"
      ]
     },
     "execution_count": 34,
     "metadata": {},
     "output_type": "execute_result"
    }
   ],
   "source": [
    "coeff['exponential']=pow(2.71828,coeff['coefficient'])\n",
    "coeff"
   ]
  },
  {
   "cell_type": "markdown",
   "metadata": {},
   "source": [
    "**Which attribute aside from the poisonous/edible indicator is the best predictors of whether a particular mushroom is poisonous or edible?**  \n",
    "\n",
    "As we can see from the coefficient, odor has the highest impact on the prediction of both edible and poisonous.  \n",
    "Moreover, the highest level is due to the green spore print. The exponential of the coefficient could be read as: holding all the other characteristics at a fixed value, if the mushroom has the spore print green the odds for it to be poisonous are higher than of the one that has a different spore color.\n",
    "\n",
    "\n",
    "Now we want to generate predictions for the sample that we set as test."
   ]
  },
  {
   "cell_type": "code",
   "execution_count": 35,
   "metadata": {},
   "outputs": [
    {
     "data": {
      "text/plain": [
       "array([[0.996, 0.004],\n",
       "       [0.059, 0.941],\n",
       "       [0.996, 0.004],\n",
       "       ...,\n",
       "       [0.973, 0.027],\n",
       "       [0.97 , 0.03 ],\n",
       "       [0.997, 0.003]])"
      ]
     },
     "execution_count": 35,
     "metadata": {},
     "output_type": "execute_result"
    }
   ],
   "source": [
    "#we use the predict_proba to extract the probablity to be edible or poisonous from the test sample.\n",
    "#we save them and round them to have more clear numbers.\n",
    "probs = np.around(model.predict_proba(X_test),decimals=3)\n",
    "probs"
   ]
  },
  {
   "cell_type": "code",
   "execution_count": 60,
   "metadata": {},
   "outputs": [
    {
     "data": {
      "text/plain": [
       "array([0, 1, 0, 0, 0], dtype=uint8)"
      ]
     },
     "execution_count": 60,
     "metadata": {},
     "output_type": "execute_result"
    }
   ],
   "source": [
    "#generate predictions for the test data using our new model\n",
    "y_predict = model.predict(X_test)\n",
    "y_predict[:5]"
   ]
  },
  {
   "cell_type": "code",
   "execution_count": 37,
   "metadata": {},
   "outputs": [
    {
     "data": {
      "text/html": [
       "<div>\n",
       "<style scoped>\n",
       "    .dataframe tbody tr th:only-of-type {\n",
       "        vertical-align: middle;\n",
       "    }\n",
       "\n",
       "    .dataframe tbody tr th {\n",
       "        vertical-align: top;\n",
       "    }\n",
       "\n",
       "    .dataframe thead th {\n",
       "        text-align: right;\n",
       "    }\n",
       "</style>\n",
       "<table border=\"1\" class=\"dataframe\">\n",
       "  <thead>\n",
       "    <tr style=\"text-align: right;\">\n",
       "      <th></th>\n",
       "      <th>edible_poisonous</th>\n",
       "      <th>odor_anise</th>\n",
       "      <th>odor_creosote</th>\n",
       "      <th>odor_fishy</th>\n",
       "      <th>odor_foul</th>\n",
       "      <th>odor_musty</th>\n",
       "      <th>odor_none</th>\n",
       "      <th>odor_pungent</th>\n",
       "      <th>odor_spicy</th>\n",
       "      <th>spore_print_color_brown</th>\n",
       "      <th>...</th>\n",
       "      <th>gill_color_orange</th>\n",
       "      <th>gill_color_pink</th>\n",
       "      <th>gill_color_purple</th>\n",
       "      <th>gill_color_red</th>\n",
       "      <th>gill_color_white</th>\n",
       "      <th>gill_color_yellow</th>\n",
       "      <th>ring_type_flaring</th>\n",
       "      <th>ring_type_large</th>\n",
       "      <th>ring_type_none</th>\n",
       "      <th>ring_type_pendant</th>\n",
       "    </tr>\n",
       "  </thead>\n",
       "  <tbody>\n",
       "    <tr>\n",
       "      <th>2830</th>\n",
       "      <td>0</td>\n",
       "      <td>0</td>\n",
       "      <td>0</td>\n",
       "      <td>0</td>\n",
       "      <td>0</td>\n",
       "      <td>0</td>\n",
       "      <td>1</td>\n",
       "      <td>0</td>\n",
       "      <td>0</td>\n",
       "      <td>0</td>\n",
       "      <td>...</td>\n",
       "      <td>0</td>\n",
       "      <td>0</td>\n",
       "      <td>0</td>\n",
       "      <td>0</td>\n",
       "      <td>1</td>\n",
       "      <td>0</td>\n",
       "      <td>0</td>\n",
       "      <td>0</td>\n",
       "      <td>0</td>\n",
       "      <td>1</td>\n",
       "    </tr>\n",
       "    <tr>\n",
       "      <th>3270</th>\n",
       "      <td>1</td>\n",
       "      <td>0</td>\n",
       "      <td>1</td>\n",
       "      <td>0</td>\n",
       "      <td>0</td>\n",
       "      <td>0</td>\n",
       "      <td>0</td>\n",
       "      <td>0</td>\n",
       "      <td>0</td>\n",
       "      <td>1</td>\n",
       "      <td>...</td>\n",
       "      <td>0</td>\n",
       "      <td>1</td>\n",
       "      <td>0</td>\n",
       "      <td>0</td>\n",
       "      <td>0</td>\n",
       "      <td>0</td>\n",
       "      <td>0</td>\n",
       "      <td>0</td>\n",
       "      <td>0</td>\n",
       "      <td>1</td>\n",
       "    </tr>\n",
       "    <tr>\n",
       "      <th>2261</th>\n",
       "      <td>0</td>\n",
       "      <td>0</td>\n",
       "      <td>0</td>\n",
       "      <td>0</td>\n",
       "      <td>0</td>\n",
       "      <td>0</td>\n",
       "      <td>1</td>\n",
       "      <td>0</td>\n",
       "      <td>0</td>\n",
       "      <td>0</td>\n",
       "      <td>...</td>\n",
       "      <td>0</td>\n",
       "      <td>0</td>\n",
       "      <td>0</td>\n",
       "      <td>0</td>\n",
       "      <td>1</td>\n",
       "      <td>0</td>\n",
       "      <td>0</td>\n",
       "      <td>0</td>\n",
       "      <td>0</td>\n",
       "      <td>1</td>\n",
       "    </tr>\n",
       "    <tr>\n",
       "      <th>735</th>\n",
       "      <td>0</td>\n",
       "      <td>0</td>\n",
       "      <td>0</td>\n",
       "      <td>0</td>\n",
       "      <td>0</td>\n",
       "      <td>0</td>\n",
       "      <td>0</td>\n",
       "      <td>0</td>\n",
       "      <td>0</td>\n",
       "      <td>1</td>\n",
       "      <td>...</td>\n",
       "      <td>0</td>\n",
       "      <td>0</td>\n",
       "      <td>0</td>\n",
       "      <td>0</td>\n",
       "      <td>1</td>\n",
       "      <td>0</td>\n",
       "      <td>0</td>\n",
       "      <td>0</td>\n",
       "      <td>0</td>\n",
       "      <td>1</td>\n",
       "    </tr>\n",
       "    <tr>\n",
       "      <th>5415</th>\n",
       "      <td>0</td>\n",
       "      <td>0</td>\n",
       "      <td>0</td>\n",
       "      <td>0</td>\n",
       "      <td>0</td>\n",
       "      <td>0</td>\n",
       "      <td>1</td>\n",
       "      <td>0</td>\n",
       "      <td>0</td>\n",
       "      <td>0</td>\n",
       "      <td>...</td>\n",
       "      <td>0</td>\n",
       "      <td>0</td>\n",
       "      <td>0</td>\n",
       "      <td>1</td>\n",
       "      <td>0</td>\n",
       "      <td>0</td>\n",
       "      <td>0</td>\n",
       "      <td>0</td>\n",
       "      <td>0</td>\n",
       "      <td>0</td>\n",
       "    </tr>\n",
       "  </tbody>\n",
       "</table>\n",
       "<p>5 rows × 32 columns</p>\n",
       "</div>"
      ],
      "text/plain": [
       "      edible_poisonous  odor_anise  odor_creosote  odor_fishy  odor_foul  \\\n",
       "2830                 0           0              0           0          0   \n",
       "3270                 1           0              1           0          0   \n",
       "2261                 0           0              0           0          0   \n",
       "735                  0           0              0           0          0   \n",
       "5415                 0           0              0           0          0   \n",
       "\n",
       "      odor_musty  odor_none  odor_pungent  odor_spicy  \\\n",
       "2830           0          1             0           0   \n",
       "3270           0          0             0           0   \n",
       "2261           0          1             0           0   \n",
       "735            0          0             0           0   \n",
       "5415           0          1             0           0   \n",
       "\n",
       "      spore_print_color_brown  ...  gill_color_orange  gill_color_pink  \\\n",
       "2830                        0  ...                  0                0   \n",
       "3270                        1  ...                  0                1   \n",
       "2261                        0  ...                  0                0   \n",
       "735                         1  ...                  0                0   \n",
       "5415                        0  ...                  0                0   \n",
       "\n",
       "      gill_color_purple  gill_color_red  gill_color_white  gill_color_yellow  \\\n",
       "2830                  0               0                 1                  0   \n",
       "3270                  0               0                 0                  0   \n",
       "2261                  0               0                 1                  0   \n",
       "735                   0               0                 1                  0   \n",
       "5415                  0               1                 0                  0   \n",
       "\n",
       "      ring_type_flaring  ring_type_large  ring_type_none  ring_type_pendant  \n",
       "2830                  0                0               0                  1  \n",
       "3270                  0                0               0                  1  \n",
       "2261                  0                0               0                  1  \n",
       "735                   0                0               0                  1  \n",
       "5415                  0                0               0                  0  \n",
       "\n",
       "[5 rows x 32 columns]"
      ]
     },
     "execution_count": 37,
     "metadata": {},
     "output_type": "execute_result"
    }
   ],
   "source": [
    "test.head()"
   ]
  },
  {
   "cell_type": "markdown",
   "metadata": {},
   "source": [
    "We can see that the first 5 rows of our test sample are predicted correctly.     \n",
    "Now we want to calculate the accuracy to see if the model has a higher level than the basic probability found at the beginning."
   ]
  },
  {
   "cell_type": "code",
   "execution_count": 38,
   "metadata": {},
   "outputs": [
    {
     "name": "stdout",
     "output_type": "stream",
     "text": [
      "0.9938461538461538\n"
     ]
    }
   ],
   "source": [
    "#now we use the accuracy_score built in metrics to evaluate the model in our test sample.\n",
    "from sklearn import metrics\n",
    "print (metrics.accuracy_score(y_test, y_predict))"
   ]
  },
  {
   "cell_type": "markdown",
   "metadata": {},
   "source": [
    "## Conclusion    \n",
    "We can conclude that our model is accurate and we can predict if a mushroom edible or poisonous for with an accuracy of 99.38%."
   ]
  },
  {
   "cell_type": "markdown",
   "metadata": {},
   "source": [
    "Let's go back to the example we made at the end of the EDA.\n",
    "For example it seems very probable that a mushroom with foul odor, chocolate spore print color, buff gill color and large ring type could be poisonous.\n",
    "How would it be classified?"
   ]
  },
  {
   "cell_type": "code",
   "execution_count": 39,
   "metadata": {},
   "outputs": [
    {
     "data": {
      "text/plain": [
       "array([[0., 1.]])"
      ]
     },
     "execution_count": 39,
     "metadata": {},
     "output_type": "execute_result"
    }
   ],
   "source": [
    "np.around(model.predict_proba(np.array([0,0,0,1,0,0,0,0,0,0,1,0,0,0,0,0,0,1,0,0,0,0,0,0,0,0,0,0,1,0,0]).reshape(1, -1)),decimals=3)"
   ]
  },
  {
   "cell_type": "markdown",
   "metadata": {},
   "source": [
    "As we expected from the beginning this type of mushroom is predicted as poisonous."
   ]
  },
  {
   "cell_type": "markdown",
   "metadata": {},
   "source": [
    "## Recommendations for further analysis\n",
    "One option is to create a feature in the dataset by combining sparse classifications, and see if it impacts the models accuracy. In the 'spore print color' variable we could combine the classes - orange, purpule, yellow and buff, into one and name it 'other' since they all have a very low frqeuancy in our datset and are all related to edible mushrooms. \n",
    "\n",
    "Another option is to create a model that would evaluate the interactions between different variables. In particular between odor and spore print color."
   ]
  }
 ],
 "metadata": {
  "kernelspec": {
   "display_name": "Python 3",
   "language": "python",
   "name": "python3"
  },
  "language_info": {
   "codemirror_mode": {
    "name": "ipython",
    "version": 3
   },
   "file_extension": ".py",
   "mimetype": "text/x-python",
   "name": "python",
   "nbconvert_exporter": "python",
   "pygments_lexer": "ipython3",
   "version": "3.7.3"
  }
 },
 "nbformat": 4,
 "nbformat_minor": 2
}
